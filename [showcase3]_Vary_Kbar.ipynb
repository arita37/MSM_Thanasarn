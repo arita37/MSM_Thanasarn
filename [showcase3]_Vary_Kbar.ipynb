{
 "cells": [
  {
   "cell_type": "code",
   "execution_count": null,
   "metadata": {},
   "outputs": [],
   "source": [
    "import matplotlib\n",
    "import numpy as np\n",
    "import matplotlib.pyplot as plt\n",
    "import pandas as pd\n",
    "from pandas import DataFrame as df\n",
    "from MSM_util import *\n",
    "from lmfit import minimize, Minimizer, Parameters, Parameter, report_fit\n",
    "import sys, scipy, numpy\n",
    "\n",
    "# print(scipy.__version__, numpy.__version__, sys.version_info)\n",
    "\n",
    "# Hyper parameters\n",
    "\n",
    "# How much period taken into calculation and prediction\n",
    "m = 20\n",
    "# number of days prediction\n",
    "RVn = 22\n",
    "# kbar\n",
    "kbar = 3\n",
    "vary = \"k\"\n",
    "kbar_start = 3\n",
    "kbar_max = 9\n",
    "\n",
    "xls_data = pd.read_excel('data_GVZ_GLD.xlsx')\n",
    "date_GLD = xls_data.iloc[:,3]\n",
    "GLD = xls_data.loc[:,'GLD']\n",
    "\n",
    "GLD2 = GLD.shift(1)\n",
    "GLD2[0] = GLD[0]\n",
    "GLD_r = GLD/GLD2\n",
    "\n",
    "GLD_d = GLD_r - np.mean(GLD_r)\n",
    "plt.plot(date_GLD,GLD)\n",
    "plt.title('de-mean data')\n",
    "plt.plot(date_GLD,200*GLD_r)\n",
    "\n",
    "data = GLD_d[::-1]\n",
    "\n",
    "\n",
    "startingvals = []#[1.2, 1.2, 0.5 , 1.2 ]\n",
    "LB = [1, 1, 0.001, 0.0001]\n",
    "UB = [1.99, 50, 0.99999, 5]\n",
    "op_methods = 'slsqp'"
   ]
  },
  {
   "cell_type": "code",
   "execution_count": null,
   "metadata": {},
   "outputs": [
    {
     "name": "stdout",
     "output_type": "stream",
     "text": [
      "=====kbar = 3\n",
      "round0\n",
      "round1\n",
      "round2\n",
      "round3\n",
      "round4\n",
      "round5\n",
      "round6\n",
      "round7\n",
      "round8\n",
      "round9\n",
      "round10\n",
      "round11\n",
      "round12\n",
      "round13\n",
      "round14\n",
      "round15\n",
      "round16\n",
      "round17\n",
      "round18\n",
      "round19\n",
      "=====kbar = 4\n",
      "round0\n",
      "round1\n",
      "round2\n",
      "round3\n",
      "round4\n",
      "round5\n",
      "round6\n",
      "round7\n",
      "round8\n",
      "round9\n",
      "round10\n",
      "round11\n"
     ]
    }
   ],
   "source": [
    "RV, m0, b, gamma_k, sigma = msm_vary_k_cal(data, vary, kbar_start, kbar_max, LB, UB, op_methods, startingvals, m, RVn)"
   ]
  },
  {
   "cell_type": "code",
   "execution_count": null,
   "metadata": {},
   "outputs": [],
   "source": [
    "GVZ = xls_data.loc[:,\"GVZ\"]\n",
    "GVZ = GVZ[::-1]\n",
    "msm_vary_k_plot(GVZ, m, RV, m0, b, gamma_k, sigma)"
   ]
  },
  {
   "cell_type": "code",
   "execution_count": 21,
   "metadata": {},
   "outputs": [
    {
     "data": {
      "text/plain": [
       "['k3', 'k4']"
      ]
     },
     "execution_count": 21,
     "metadata": {},
     "output_type": "execute_result"
    }
   ],
   "source": []
  },
  {
   "cell_type": "code",
   "execution_count": null,
   "metadata": {
    "collapsed": true
   },
   "outputs": [],
   "source": []
  }
 ],
 "metadata": {
  "kernelspec": {
   "display_name": "Python 3",
   "language": "python",
   "name": "python3"
  },
  "toc": {
   "nav_menu": {},
   "number_sections": true,
   "sideBar": true,
   "skip_h1_title": false,
   "toc_cell": false,
   "toc_position": {},
   "toc_section_display": "block",
   "toc_window_display": false
  }
 },
 "nbformat": 4,
 "nbformat_minor": 2
}
