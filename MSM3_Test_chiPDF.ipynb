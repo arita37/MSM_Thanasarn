{
 "cells": [
  {
   "cell_type": "code",
   "execution_count": 1,
   "metadata": {
    "ExecuteTime": {
     "end_time": "2018-03-19T09:30:15.524327Z",
     "start_time": "2018-03-19T09:29:56.114564Z"
    },
    "collapsed": true
   },
   "outputs": [],
   "source": [
    "import numpy as np\n",
    "import pandas as pd\n",
    "from pandas import DataFrame as df\n",
    "from numpy import matlib\n",
    "from scipy.optimize import fminbound, minimize, fsolve\n",
    "from lmfit import minimize, Minimizer, Parameters, Parameter, report_fit\n",
    "import matplotlib.pyplot as plt\n",
    "from sklearn import datasets, linear_model\n",
    "from sklearn.metrics import mean_squared_error, r2_score\n",
    "from datetime import date\n",
    "#import winsound\n",
    "from pylab import rcParams"
   ]
  },
  {
   "cell_type": "markdown",
   "metadata": {},
   "source": [
    "# test *args **kwrags"
   ]
  },
  {
   "cell_type": "code",
   "execution_count": 6,
   "metadata": {
    "ExecuteTime": {
     "end_time": "2018-03-19T09:37:27.976320Z",
     "start_time": "2018-03-19T09:37:27.945080Z"
    },
    "collapsed": true
   },
   "outputs": [],
   "source": [
    "def abc(a,b,*args,**kwargs):\n",
    "    print(len(args))\n",
    "    print(len(kwargs))\n",
    "    for arg in args:\n",
    "        \n",
    "        print(\"another arg through *argv :\", arg)\n",
    "    for key in kwargs:\n",
    "        print(\"another keyword arg: %s: %s\" % (key, kwargs[key]))\n",
    "    print(\"a = %s\" %a)\n",
    "    print(\"b = %s\" %b)"
   ]
  },
  {
   "cell_type": "code",
   "execution_count": 9,
   "metadata": {
    "ExecuteTime": {
     "end_time": "2018-03-19T09:37:51.592820Z",
     "start_time": "2018-03-19T09:37:51.577193Z"
    }
   },
   "outputs": [
    {
     "name": "stdout",
     "output_type": "stream",
     "text": [
      "3\n",
      "2\n",
      "another arg through *argv : aaaa\n",
      "another arg through *argv : args\n",
      "another arg through *argv : 555\n",
      "another keyword arg: lol: 7\n",
      "another keyword arg: ab: 5\n",
      "a = 4\n",
      "b = kak wa\n"
     ]
    }
   ],
   "source": [
    "abc(4, 'kak wa', 'aaaa', \"args\", 555, lol = 7, ab=5)"
   ]
  },
  {
   "cell_type": "markdown",
   "metadata": {},
   "source": [
    "# PDF"
   ]
  },
  {
   "cell_type": "code",
   "execution_count": 4,
   "metadata": {
    "ExecuteTime": {
     "end_time": "2018-03-19T09:30:15.602462Z",
     "start_time": "2018-03-19T09:30:15.571207Z"
    },
    "collapsed": true
   },
   "outputs": [],
   "source": [
    "from scipy.stats import chi2\n",
    "import matplotlib.pyplot as plt\n"
   ]
  },
  {
   "cell_type": "markdown",
   "metadata": {},
   "source": [
    "## normal chi"
   ]
  },
  {
   "cell_type": "code",
   "execution_count": 31,
   "metadata": {
    "ExecuteTime": {
     "end_time": "2018-03-16T17:16:48.276285Z",
     "start_time": "2018-03-16T17:16:48.057514Z"
    }
   },
   "outputs": [
    {
     "data": {
      "image/png": "[encoded data removed]",
      "text/plain": [
       "<matplotlib.figure.Figure at 0x206e3cfdac8>"
      ]
     },
     "metadata": {},
     "output_type": "display_data"
    },
    {
     "name": "stdout",
     "output_type": "stream",
     "text": [
      "55.0401108001\n"
     ]
    }
   ],
   "source": [
    "fig, ax = plt.subplots(1, 1)\n",
    "df = 55\n",
    "mean, var, skew, kurt = chi2.stats(df, moments='mvsk')\n",
    "\n",
    "x = np.linspace(chi2.ppf(0.01, df),chi2.ppf(0.99, df), 100)\n",
    "ax.plot(x, chi2.pdf(x, df),'r-', lw=5, alpha=0.6, label='chi2 pdf')\n",
    "\n",
    "vals = chi2.ppf([0.001, 0.5, 0.999], df)\n",
    "np.allclose([0.001, 0.5, 0.999], chi2.cdf(vals, df))\n",
    "\n",
    "rv = chi2(df)\n",
    "ax.plot(x, rv.pdf(x), 'k-', lw=2, label='frozen pdf')\n",
    "\n",
    "r = chi2.rvs(df, size=10000)\n",
    "ax.hist(r, normed=True, histtype='stepfilled', alpha=0.2)\n",
    "ax.legend(loc='best', frameon=False)\n",
    "plt.show()\n",
    "\n",
    "print(r.mean())"
   ]
  },
  {
   "cell_type": "markdown",
   "metadata": {},
   "source": [
    "## chi(1)"
   ]
  },
  {
   "cell_type": "code",
   "execution_count": 32,
   "metadata": {
    "ExecuteTime": {
     "end_time": "2018-03-16T17:16:56.025346Z",
     "start_time": "2018-03-16T17:16:55.822199Z"
    }
   },
   "outputs": [
    {
     "data": {
      "image/png": "[encoded data removed]",
      "text/plain": [
       "<matplotlib.figure.Figure at 0x206e2621358>"
      ]
     },
     "metadata": {},
     "output_type": "display_data"
    },
    {
     "name": "stdout",
     "output_type": "stream",
     "text": [
      "1.00648668523\n"
     ]
    }
   ],
   "source": [
    "fig, ax = plt.subplots(1, 1)\n",
    "df = 1\n",
    "mean, var, skew, kurt = chi2.stats(df, moments='mvsk')\n",
    "\n",
    "x = np.linspace(chi2.ppf(0.01, df),chi2.ppf(0.99, df), 100)\n",
    "ax.plot(x, chi2.pdf(x, df),'r-', lw=5, alpha=0.6, label='chi2 pdf')\n",
    "\n",
    "vals = chi2.ppf([0.001, 0.5, 0.999], df)\n",
    "np.allclose([0.001, 0.5, 0.999], chi2.cdf(vals, df))\n",
    "\n",
    "rv = chi2(df)\n",
    "ax.plot(x, rv.pdf(x), 'k-', lw=2, label='frozen pdf')\n",
    "\n",
    "r = chi2.rvs(df, size=10000)\n",
    "ax.hist(r, normed=True, histtype='stepfilled', alpha=0.2)\n",
    "ax.legend(loc='best', frameon=False)\n",
    "plt.show()\n",
    "\n",
    "print(r.mean())"
   ]
  },
  {
   "cell_type": "markdown",
   "metadata": {},
   "source": [
    "## chi(2)"
   ]
  },
  {
   "cell_type": "code",
   "execution_count": 33,
   "metadata": {
    "ExecuteTime": {
     "end_time": "2018-03-16T17:17:00.041761Z",
     "start_time": "2018-03-16T17:16:59.838618Z"
    }
   },
   "outputs": [
    {
     "data": {
      "image/png": "[encoded data removed]",
      "text/plain": [
       "<matplotlib.figure.Figure at 0x206e3bd69e8>"
      ]
     },
     "metadata": {},
     "output_type": "display_data"
    },
    {
     "name": "stdout",
     "output_type": "stream",
     "text": [
      "2.01673186069\n"
     ]
    }
   ],
   "source": [
    "fig, ax = plt.subplots(1, 1)\n",
    "df = 2\n",
    "mean, var, skew, kurt = chi2.stats(df, moments='mvsk')\n",
    "\n",
    "x = np.linspace(chi2.ppf(0.01, df),chi2.ppf(0.99, df), 100)\n",
    "ax.plot(x, chi2.pdf(x, df),'r-', lw=5, alpha=0.6, label='chi2 pdf')\n",
    "\n",
    "vals = chi2.ppf([0.001, 0.5, 0.999], df)\n",
    "np.allclose([0.001, 0.5, 0.999], chi2.cdf(vals, df))\n",
    "\n",
    "rv = chi2(df)\n",
    "ax.plot(x, rv.pdf(x), 'k-', lw=2, label='frozen pdf')\n",
    "\n",
    "r = chi2.rvs(df, size=10000)\n",
    "ax.hist(r, normed=True, histtype='stepfilled', alpha=0.2)\n",
    "ax.legend(loc='best', frameon=False)\n",
    "plt.show()\n",
    "\n",
    "print(r.mean())"
   ]
  },
  {
   "cell_type": "markdown",
   "metadata": {},
   "source": [
    "## chi(3)"
   ]
  },
  {
   "cell_type": "code",
   "execution_count": 28,
   "metadata": {
    "ExecuteTime": {
     "end_time": "2018-03-16T17:16:16.884412Z",
     "start_time": "2018-03-16T17:16:16.681267Z"
    }
   },
   "outputs": [
    {
     "data": {
      "image/png": "[encoded data removed]",
      "text/plain": [
       "<matplotlib.figure.Figure at 0x206e3f5d898>"
      ]
     },
     "metadata": {},
     "output_type": "display_data"
    },
    {
     "name": "stdout",
     "output_type": "stream",
     "text": [
      "2.99627496628\n"
     ]
    }
   ],
   "source": [
    "fig, ax = plt.subplots(1, 1)\n",
    "df = 3\n",
    "mean, var, skew, kurt = chi2.stats(df, moments='mvsk')\n",
    "\n",
    "x = np.linspace(chi2.ppf(0.01, df),chi2.ppf(0.99, df), 100)\n",
    "ax.plot(x, chi2.pdf(x, df),'r-', lw=5, alpha=0.6, label='chi2 pdf')\n",
    "\n",
    "vals = chi2.ppf([0.001, 0.5, 0.999], df)\n",
    "np.allclose([0.001, 0.5, 0.999], chi2.cdf(vals, df))\n",
    "\n",
    "rv = chi2(df)\n",
    "ax.plot(x, rv.pdf(x), 'k-', lw=2, label='frozen pdf')\n",
    "\n",
    "r = chi2.rvs(df, size=10000)\n",
    "ax.hist(r, normed=True, histtype='stepfilled', alpha=0.2)\n",
    "ax.legend(loc='best', frameon=False)\n",
    "plt.show()\n",
    "\n",
    "print(r.mean())"
   ]
  },
  {
   "cell_type": "markdown",
   "metadata": {},
   "source": [
    "## normal"
   ]
  },
  {
   "cell_type": "code",
   "execution_count": 34,
   "metadata": {
    "ExecuteTime": {
     "end_time": "2018-03-16T17:46:57.684881Z",
     "start_time": "2018-03-16T17:46:57.404186Z"
    }
   },
   "outputs": [
    {
     "data": {
      "image/png": "[encoded data removed]",
      "text/plain": [
       "<matplotlib.figure.Figure at 0x206e3c4af28>"
      ]
     },
     "metadata": {},
     "output_type": "display_data"
    }
   ],
   "source": [
    "from scipy.stats import norm\n",
    "import matplotlib.pyplot as plt\n",
    "fig, ax = plt.subplots(1, 1)\n",
    "\n",
    "mean, var, skew, kurt = norm.stats(moments='mvsk')\n",
    "\n",
    "# Display the probability density function (pdf):\n",
    "x = np.linspace(norm.ppf(0.01),norm.ppf(0.99), 100)\n",
    "ax.plot(x, norm.pdf(x),'r-', lw=5, alpha=0.6, label='norm pdf')\n",
    "\n",
    "# Freeze the distribution and display the frozen pdf:\n",
    "rv = norm()\n",
    "ax.plot(x, rv.pdf(x), 'k-', lw=2, label='frozen pdf')\n",
    "\n",
    "# Check accuracy of cdf and ppf:\n",
    "vals = norm.ppf([0.001, 0.5, 0.999])\n",
    "np.allclose([0.001, 0.5, 0.999], norm.cdf(vals))\n",
    "\n",
    "# generate random numbers\n",
    "r = norm.rvs(size=1000)\n",
    "\n",
    "ax.hist(r, normed=True, histtype='stepfilled', alpha=0.2)\n",
    "ax.legend(loc='best', frameon=False)\n",
    "plt.show()"
   ]
  },
  {
   "cell_type": "code",
   "execution_count": 41,
   "metadata": {
    "ExecuteTime": {
     "end_time": "2018-03-16T17:51:02.667164Z",
     "start_time": "2018-03-16T17:51:02.651495Z"
    }
   },
   "outputs": [
    {
     "data": {
      "text/plain": [
       "array([-2.32634787, -2.27935095, -2.23235402, -2.18535709, -2.13836017,\n",
       "       -2.09136324, -2.04436631, -1.99736939, -1.95037246, -1.90337553,\n",
       "       -1.85637861, -1.80938168, -1.76238475, -1.71538783, -1.6683909 ,\n",
       "       -1.62139397, -1.57439705, -1.52740012, -1.48040319, -1.43340627,\n",
       "       -1.38640934, -1.33941241, -1.29241549, -1.24541856, -1.19842163,\n",
       "       -1.15142471, -1.10442778, -1.05743085, -1.01043393, -0.963437  ,\n",
       "       -0.91644007, -0.86944314, -0.82244622, -0.77544929, -0.72845236,\n",
       "       -0.68145544, -0.63445851, -0.58746158, -0.54046466, -0.49346773,\n",
       "       -0.4464708 , -0.39947388, -0.35247695, -0.30548002, -0.2584831 ,\n",
       "       -0.21148617, -0.16448924, -0.11749232, -0.07049539, -0.02349846,\n",
       "        0.02349846,  0.07049539,  0.11749232,  0.16448924,  0.21148617,\n",
       "        0.2584831 ,  0.30548002,  0.35247695,  0.39947388,  0.4464708 ,\n",
       "        0.49346773,  0.54046466,  0.58746158,  0.63445851,  0.68145544,\n",
       "        0.72845236,  0.77544929,  0.82244622,  0.86944314,  0.91644007,\n",
       "        0.963437  ,  1.01043393,  1.05743085,  1.10442778,  1.15142471,\n",
       "        1.19842163,  1.24541856,  1.29241549,  1.33941241,  1.38640934,\n",
       "        1.43340627,  1.48040319,  1.52740012,  1.57439705,  1.62139397,\n",
       "        1.6683909 ,  1.71538783,  1.76238475,  1.80938168,  1.85637861,\n",
       "        1.90337553,  1.95037246,  1.99736939,  2.04436631,  2.09136324,\n",
       "        2.13836017,  2.18535709,  2.23235402,  2.27935095,  2.32634787])"
      ]
     },
     "execution_count": 41,
     "metadata": {},
     "output_type": "execute_result"
    }
   ],
   "source": [
    "x"
   ]
  },
  {
   "cell_type": "code",
   "execution_count": 47,
   "metadata": {
    "ExecuteTime": {
     "end_time": "2018-03-16T17:52:08.410566Z",
     "start_time": "2018-03-16T17:52:08.379730Z"
    }
   },
   "outputs": [
    {
     "data": {
      "text/plain": [
       "array([ 0.02665214,  0.0296985 ,  0.03302004,  0.03663206,  0.04054955,\n",
       "        0.04478694,  0.049358  ,  0.05427559,  0.05955143,  0.06519596,\n",
       "        0.07121803,  0.0776247 ,  0.08442105,  0.09160987,  0.09919153,\n",
       "        0.1071637 ,  0.11552116,  0.12425566,  0.13335569,  0.14280642,\n",
       "        0.1525895 ,  0.16268307,  0.17306164,  0.18369615,  0.19455396,\n",
       "        0.20559893,  0.21679157,  0.22808919,  0.23944611,  0.25081392,\n",
       "        0.26214179,  0.2733768 ,  0.28446433,  0.29534848,  0.30597253,\n",
       "        0.3162794 ,  0.32621215,  0.33571453,  0.34473146,  0.35320956,\n",
       "        0.36109774,  0.3683476 ,  0.37491403,  0.38075561,  0.38583507,\n",
       "        0.39011967,  0.39358159,  0.39619817,  0.39795222,  0.39883215,\n",
       "        0.39883215,  0.39795222,  0.39619817,  0.39358159,  0.39011967,\n",
       "        0.38583507,  0.38075561,  0.37491403,  0.3683476 ,  0.36109774,\n",
       "        0.35320956,  0.34473146,  0.33571453,  0.32621215,  0.3162794 ,\n",
       "        0.30597253,  0.29534848,  0.28446433,  0.2733768 ,  0.26214179,\n",
       "        0.25081392,  0.23944611,  0.22808919,  0.21679157,  0.20559893,\n",
       "        0.19455396,  0.18369615,  0.17306164,  0.16268307,  0.1525895 ,\n",
       "        0.14280642,  0.13335569,  0.12425566,  0.11552116,  0.1071637 ,\n",
       "        0.09919153,  0.09160987,  0.08442105,  0.0776247 ,  0.07121803,\n",
       "        0.06519596,  0.05955143,  0.05427559,  0.049358  ,  0.04478694,\n",
       "        0.04054955,  0.03663206,  0.03302004,  0.0296985 ,  0.02665214])"
      ]
     },
     "execution_count": 47,
     "metadata": {},
     "output_type": "execute_result"
    }
   ],
   "source": [
    "norm.pdf(x)"
   ]
  },
  {
   "cell_type": "code",
   "execution_count": 43,
   "metadata": {
    "ExecuteTime": {
     "end_time": "2018-03-16T17:51:25.767942Z",
     "start_time": "2018-03-16T17:51:25.752272Z"
    }
   },
   "outputs": [
    {
     "data": {
      "text/plain": [
       "2.3263478740408408"
      ]
     },
     "execution_count": 43,
     "metadata": {},
     "output_type": "execute_result"
    }
   ],
   "source": [
    "norm.ppf(0.99)"
   ]
  },
  {
   "cell_type": "markdown",
   "metadata": {},
   "source": [
    "## verify normal"
   ]
  },
  {
   "cell_type": "code",
   "execution_count": 55,
   "metadata": {
    "ExecuteTime": {
     "end_time": "2018-03-16T17:55:00.088294Z",
     "start_time": "2018-03-16T17:55:00.057422Z"
    }
   },
   "outputs": [
    {
     "data": {
      "text/plain": [
       "0.02665214220345808"
      ]
     },
     "execution_count": 55,
     "metadata": {},
     "output_type": "execute_result"
    }
   ],
   "source": [
    "norm.pdf(2.3263478740408408)"
   ]
  },
  {
   "cell_type": "code",
   "execution_count": 38,
   "metadata": {
    "ExecuteTime": {
     "end_time": "2018-03-18T17:27:27.675857Z",
     "start_time": "2018-03-18T17:27:27.644603Z"
    }
   },
   "outputs": [
    {
     "name": "stdout",
     "output_type": "stream",
     "text": [
      "1.48671951483e-06\n"
     ]
    }
   ],
   "source": [
    "w_t = -5\n",
    "s =1\n",
    "pa = (2 * np.pi) ** (-0.5)\n",
    "w_t = np.divide(pa * np.e ** (-0.5 * np.power(np.divide(w_t, s), 2)), s)\n",
    "w_t = w_t + 10 ** -16\n",
    "print(w_t)"
   ]
  },
  {
   "cell_type": "code",
   "execution_count": 10,
   "metadata": {
    "ExecuteTime": {
     "end_time": "2018-03-18T16:31:01.082278Z",
     "start_time": "2018-03-18T16:31:01.051066Z"
    }
   },
   "outputs": [
    {
     "name": "stdout",
     "output_type": "stream",
     "text": [
      "PPF 6.634897\n",
      "PDF 0.670808\n"
     ]
    }
   ],
   "source": [
    "df=1\n",
    "print('PPF %f' %chi2.ppf(0.99,df))\n",
    "print('PDF %f' %chi2.pdf(0.27,df))"
   ]
  },
  {
   "cell_type": "code",
   "execution_count": 29,
   "metadata": {
    "ExecuteTime": {
     "end_time": "2018-03-18T17:01:55.287638Z",
     "start_time": "2018-03-18T17:01:55.272011Z"
    }
   },
   "outputs": [
    {
     "name": "stdout",
     "output_type": "stream",
     "text": [
      "PDF of 0.10 is 1.20\n",
      "PDF of 0.50 is 0.44\n",
      "PDF of 1.00 is 0.24\n",
      "PDF of 1.20 is 0.20\n"
     ]
    }
   ],
   "source": [
    "df=1\n",
    "print('PDF of %2.2f is %2.2f' %(0.1,chi2.pdf(0.1,df)))\n",
    "print('PDF of %2.2f is %2.2f' %(0.5,chi2.pdf(0.5,df)))\n",
    "print('PDF of %2.2f is %2.2f' %(1,chi2.pdf(1,df)))\n",
    "print('PDF of %2.2f is %2.2f' %(1.2,chi2.pdf(1.2,df)))"
   ]
  },
  {
   "cell_type": "code",
   "execution_count": 30,
   "metadata": {
    "ExecuteTime": {
     "end_time": "2018-03-18T17:02:07.039008Z",
     "start_time": "2018-03-18T17:02:07.023378Z"
    }
   },
   "outputs": [
    {
     "name": "stdout",
     "output_type": "stream",
     "text": [
      "PDF of 0.10 is 0.45\n",
      "PDF of 0.50 is 0.30\n",
      "PDF of 1.00 is 0.18\n",
      "PDF of 1.20 is 0.15\n"
     ]
    }
   ],
   "source": [
    "df=2\n",
    "print('PDF of %2.2f is %2.2f' %(0.1,chi2.pdf(2*0.1,df)))\n",
    "print('PDF of %2.2f is %2.2f' %(0.5,chi2.pdf(2*0.5,df)))\n",
    "print('PDF of %2.2f is %2.2f' %(1,chi2.pdf(2*1,df)))\n",
    "print('PDF of %2.2f is %2.2f' %(1.2,chi2.pdf(2*1.2,df)))"
   ]
  },
  {
   "cell_type": "code",
   "execution_count": 31,
   "metadata": {
    "ExecuteTime": {
     "end_time": "2018-03-18T17:04:19.981629Z",
     "start_time": "2018-03-18T17:04:19.965960Z"
    }
   },
   "outputs": [
    {
     "name": "stdout",
     "output_type": "stream",
     "text": [
      "PDF of 0.10 is 0.48\n",
      "PDF of 0.50 is 0.39\n",
      "PDF of 1.00 is 0.30\n",
      "PDF of 1.20 is 0.27\n"
     ]
    }
   ],
   "source": [
    "df=2\n",
    "print('PDF of %2.2f is %2.2f' %(0.1,chi2.pdf(0.1,df)))\n",
    "print('PDF of %2.2f is %2.2f' %(0.5,chi2.pdf(0.5,df)))\n",
    "print('PDF of %2.2f is %2.2f' %(1,chi2.pdf(1,df)))\n",
    "print('PDF of %2.2f is %2.2f' %(1.2,chi2.pdf(1.2,df)))"
   ]
  },
  {
   "cell_type": "code",
   "execution_count": 35,
   "metadata": {
    "ExecuteTime": {
     "end_time": "2018-03-18T17:07:02.439036Z",
     "start_time": "2018-03-18T17:07:02.407782Z"
    }
   },
   "outputs": [
    {
     "data": {
      "text/plain": [
       "array([[ 4. ,  1. ],\n",
       "       [ 0.1,  0.5]])"
      ]
     },
     "execution_count": 35,
     "metadata": {},
     "output_type": "execute_result"
    }
   ],
   "source": [
    "x = np.array([[4 ,1],[0.1, 0.5]])\n",
    "x"
   ]
  },
  {
   "cell_type": "code",
   "execution_count": 36,
   "metadata": {
    "ExecuteTime": {
     "end_time": "2018-03-18T17:07:08.877220Z",
     "start_time": "2018-03-18T17:07:08.861592Z"
    }
   },
   "outputs": [
    {
     "data": {
      "text/plain": [
       "array([[ 0.06766764,  0.30326533],\n",
       "       [ 0.47561471,  0.38940039]])"
      ]
     },
     "execution_count": 36,
     "metadata": {},
     "output_type": "execute_result"
    }
   ],
   "source": [
    "chi2.pdf(x,2)"
   ]
  },
  {
   "cell_type": "markdown",
   "metadata": {},
   "source": [
    "# MSM"
   ]
  }
 ],
 "metadata": {
  "kernelspec": {
   "display_name": "Python 3",
   "language": "python",
   "name": "python3"
  },
  "language_info": {
   "codemirror_mode": {
    "name": "ipython",
    "version": 3
   },
   "file_extension": ".py",
   "mimetype": "text/x-python",
   "name": "python",
   "nbconvert_exporter": "python",
   "pygments_lexer": "ipython3",
   "version": "3.6.1"
  },
  "toc": {
   "nav_menu": {},
   "number_sections": true,
   "sideBar": true,
   "skip_h1_title": false,
   "toc_cell": false,
   "toc_position": {},
   "toc_section_display": "block",
   "toc_window_display": false
  }
 },
 "nbformat": 4,
 "nbformat_minor": 2
}
